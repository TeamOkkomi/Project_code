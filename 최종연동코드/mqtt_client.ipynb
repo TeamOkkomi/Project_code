{
 "cells": [
  {
   "cell_type": "markdown",
   "metadata": {},
   "source": [
    "### 코드 짜보기\n",
    "> * 풍속센서, 수위센서 모두 사용\n",
    "> * 모델1,2 둘 다 사용하는 가정하에 만들었습니다\n",
    "> * 빼기로 한 부분이 있다면 제외하시고 사용하면 될 것 같아요"
   ]
  },
  {
   "cell_type": "code",
   "execution_count": 2,
   "metadata": {},
   "outputs": [
    {
     "name": "stderr",
     "output_type": "stream",
     "text": [
      "c:\\Python39\\lib\\site-packages\\sklearn\\base.py:329: UserWarning: Trying to unpickle estimator DecisionTreeClassifier from version 1.1.3 when using version 1.1.2. This might lead to breaking code or invalid results. Use at your own risk. For more info please refer to:\n",
      "https://scikit-learn.org/stable/model_persistence.html#security-maintainability-limitations\n",
      "  warnings.warn(\n",
      "c:\\Python39\\lib\\site-packages\\sklearn\\base.py:329: UserWarning: Trying to unpickle estimator RandomForestClassifier from version 1.1.3 when using version 1.1.2. This might lead to breaking code or invalid results. Use at your own risk. For more info please refer to:\n",
      "https://scikit-learn.org/stable/model_persistence.html#security-maintainability-limitations\n",
      "  warnings.warn(\n",
      "c:\\Python39\\lib\\site-packages\\sklearn\\base.py:329: UserWarning: Trying to unpickle estimator MinMaxScaler from version 1.1.3 when using version 1.1.2. This might lead to breaking code or invalid results. Use at your own risk. For more info please refer to:\n",
      "https://scikit-learn.org/stable/model_persistence.html#security-maintainability-limitations\n",
      "  warnings.warn(\n"
     ]
    }
   ],
   "source": [
    "import joblib\n",
    "\n",
    "list_windspeed = []\n",
    "list_wave = []\n",
    "list_hpa = []\n",
    "\n",
    "model1 = joblib.load('./model/Random_forest_model_01.pkl') # 모델을 다시 로드(네트워크 + weight)\n",
    "model2 = joblib.load('./model/XGBoost_minmax_model02.pkl') # 모델을 다시 로드(네트워크 + weight)\n",
    "\n",
    "scaler1 = joblib.load('./scaler/MinMax_model_01.pkl')\n",
    "scaler2 = joblib.load('./scaler/MinMax_model_02_storm.pkl')\n",
    "# scaler2_1 = joblib.load('./scaler/StandardScaler_model_02.pkl')\n",
    "# scaler2_2 = joblib.load('./scaler/Polynomial_model_02.pkl')"
   ]
  },
  {
   "cell_type": "code",
   "execution_count": 3,
   "metadata": {},
   "outputs": [
    {
     "name": "stdout",
     "output_type": "stream",
     "text": [
      "connecting to broker  192.168.0.62\n",
      "subscribing \n",
      "received message = {\"Wind\":3,\"Wave\":0,\"Hpa\":1038}\n",
      "received message = {\"Wind\":4,\"Wave\":0,\"Hpa\":1038}\n",
      "received message = {\"Wind\":3,\"Wave\":0,\"Hpa\":1038}\n",
      "received message = {\"Wind\":3,\"Wave\":0,\"Hpa\":1038}\n",
      "received message = {\"Wind\":3,\"Wave\":0,\"Hpa\":1038}\n",
      "received message = {\"Wind\":3,\"Wave\":0,\"Hpa\":1038}\n"
     ]
    },
    {
     "name": "stderr",
     "output_type": "stream",
     "text": [
      "c:\\Python39\\lib\\site-packages\\sklearn\\base.py:450: UserWarning: X does not have valid feature names, but RandomForestClassifier was fitted with feature names\n",
      "  warnings.warn(\n"
     ]
    },
    {
     "name": "stdout",
     "output_type": "stream",
     "text": [
      "predict1 = 0.0\n",
      "predict message =  {\"Predict1\": 0.0}\n",
      "received message = {\"Wind\":3,\"Wave\":0,\"Hpa\":1038}\n",
      "received message = {\"Wind\":3,\"Wave\":0,\"Hpa\":1038}\n",
      "received message = {\"Wind\":3,\"Wave\":0,\"Hpa\":1038}\n",
      "received message = {\"Wind\":2,\"Wave\":0,\"Hpa\":1038}\n",
      "received message = {\"Wind\":3,\"Wave\":0,\"Hpa\":1038}\n",
      "received message = {\"Wind\":3,\"Wave\":0,\"Hpa\":1038}\n",
      "predict1 = 0.0\n",
      "predict message =  {\"Predict1\": 0.0}\n"
     ]
    },
    {
     "name": "stderr",
     "output_type": "stream",
     "text": [
      "c:\\Python39\\lib\\site-packages\\sklearn\\base.py:450: UserWarning: X does not have valid feature names, but RandomForestClassifier was fitted with feature names\n",
      "  warnings.warn(\n"
     ]
    },
    {
     "name": "stdout",
     "output_type": "stream",
     "text": [
      "received message = {\"Wind\":2,\"Wave\":0.200000003,\"Hpa\":1038}\n",
      "received message = {\"Wind\":3,\"Wave\":0.200000003,\"Hpa\":1038}\n",
      "received message = {\"Wind\":4,\"Wave\":0.200000003,\"Hpa\":1038}\n",
      "received message = {\"Wind\":3,\"Wave\":0.100000001,\"Hpa\":1038}\n",
      "received message = {\"Wind\":4,\"Wave\":0,\"Hpa\":1038}\n",
      "received message = {\"Wind\":3,\"Wave\":0,\"Hpa\":1038}\n",
      "predict1 = 0.0\n",
      "predict message =  {\"Predict1\": 0.0}\n"
     ]
    },
    {
     "name": "stderr",
     "output_type": "stream",
     "text": [
      "c:\\Python39\\lib\\site-packages\\sklearn\\base.py:450: UserWarning: X does not have valid feature names, but RandomForestClassifier was fitted with feature names\n",
      "  warnings.warn(\n"
     ]
    },
    {
     "name": "stdout",
     "output_type": "stream",
     "text": [
      "received message = {\"Wind\":4,\"Wave\":0,\"Hpa\":1038}\n",
      "received message = {\"Wind\":3,\"Wave\":0,\"Hpa\":1038}\n",
      "received message = {\"Wind\":3,\"Wave\":0,\"Hpa\":1038}\n",
      "received message = {\"Wind\":3,\"Wave\":0.400000006,\"Hpa\":1038}\n",
      "received message = {\"Wind\":3,\"Wave\":0,\"Hpa\":1038}\n",
      "received message = {\"Wind\":4,\"Wave\":0,\"Hpa\":1038}\n",
      "predict1 = 0.0\n",
      "predict message =  {\"Predict1\": 0.0}\n"
     ]
    },
    {
     "name": "stderr",
     "output_type": "stream",
     "text": [
      "c:\\Python39\\lib\\site-packages\\sklearn\\base.py:450: UserWarning: X does not have valid feature names, but RandomForestClassifier was fitted with feature names\n",
      "  warnings.warn(\n"
     ]
    },
    {
     "name": "stdout",
     "output_type": "stream",
     "text": [
      "received message = {\"Wind\":2,\"Wave\":0,\"Hpa\":1038}\n",
      "received message = {\"Wind\":6,\"Wave\":0,\"Hpa\":1038}\n",
      "received message = {\"Wind\":4,\"Wave\":0,\"Hpa\":1038}\n",
      "received message = {\"Wind\":5,\"Wave\":0,\"Hpa\":1038}\n",
      "received message = {\"Wind\":3,\"Wave\":0,\"Hpa\":1038}\n",
      "received message = {\"Wind\":4,\"Wave\":0,\"Hpa\":1038}\n",
      "predict1 = 0.0\n",
      "predict message =  {\"Predict1\": 0.0}\n"
     ]
    },
    {
     "name": "stderr",
     "output_type": "stream",
     "text": [
      "c:\\Python39\\lib\\site-packages\\sklearn\\base.py:450: UserWarning: X does not have valid feature names, but RandomForestClassifier was fitted with feature names\n",
      "  warnings.warn(\n"
     ]
    },
    {
     "name": "stdout",
     "output_type": "stream",
     "text": [
      "received message = {\"Wind\":3,\"Wave\":0,\"Hpa\":1038}\n",
      "received message = {\"Wind\":4,\"Wave\":0,\"Hpa\":1038}\n",
      "received message = {\"Wind\":3,\"Wave\":0,\"Hpa\":1038}\n",
      "received message = {\"Wind\":2,\"Wave\":0,\"Hpa\":1038}\n",
      "received message = {\"Wind\":3,\"Wave\":3.299999952,\"Hpa\":1038}\n",
      "received message = {\"Wind\":3,\"Wave\":4.400000095,\"Hpa\":1038}\n",
      "predict1 = 1.0\n",
      "predict2 = 34.719482421875\n",
      "predict message =  {\"Predict1\": 1.0, \"Predict2\": 34.719482421875}\n"
     ]
    },
    {
     "name": "stderr",
     "output_type": "stream",
     "text": [
      "c:\\Python39\\lib\\site-packages\\sklearn\\base.py:450: UserWarning: X does not have valid feature names, but RandomForestClassifier was fitted with feature names\n",
      "  warnings.warn(\n"
     ]
    },
    {
     "name": "stdout",
     "output_type": "stream",
     "text": [
      "received message = {\"Wind\":3,\"Wave\":1.100000024,\"Hpa\":1038}\n",
      "received message = {\"Wind\":2,\"Wave\":0,\"Hpa\":1038}\n",
      "received message = {\"Wind\":2,\"Wave\":0,\"Hpa\":1038}\n",
      "received message = {\"Wind\":1,\"Wave\":0,\"Hpa\":1038}\n",
      "received message = {\"Wind\":2,\"Wave\":0,\"Hpa\":1038}\n",
      "received message = {\"Wind\":3,\"Wave\":0,\"Hpa\":1038}\n",
      "predict1 = 0.0\n",
      "predict message =  {\"Predict1\": 0.0}\n"
     ]
    },
    {
     "name": "stderr",
     "output_type": "stream",
     "text": [
      "c:\\Python39\\lib\\site-packages\\sklearn\\base.py:450: UserWarning: X does not have valid feature names, but RandomForestClassifier was fitted with feature names\n",
      "  warnings.warn(\n"
     ]
    },
    {
     "name": "stdout",
     "output_type": "stream",
     "text": [
      "received message = {\"Wind\":2,\"Wave\":0,\"Hpa\":1038}\n",
      "received message = {\"Wind\":2,\"Wave\":0.100000001,\"Hpa\":1038}\n",
      "received message = {\"Wind\":4,\"Wave\":0.100000001,\"Hpa\":1038}\n",
      "received message = {\"Wind\":4,\"Wave\":0,\"Hpa\":1038}\n",
      "received message = {\"Wind\":3,\"Wave\":0.100000001,\"Hpa\":1038}\n",
      "received message = {\"Wind\":4,\"Wave\":0.100000001,\"Hpa\":1038}\n",
      "predict1 = 0.0\n",
      "predict message =  {\"Predict1\": 0.0}\n"
     ]
    },
    {
     "name": "stderr",
     "output_type": "stream",
     "text": [
      "c:\\Python39\\lib\\site-packages\\sklearn\\base.py:450: UserWarning: X does not have valid feature names, but RandomForestClassifier was fitted with feature names\n",
      "  warnings.warn(\n"
     ]
    },
    {
     "name": "stdout",
     "output_type": "stream",
     "text": [
      "received message = {\"Wind\":4,\"Wave\":0,\"Hpa\":1038}\n",
      "received message = {\"Wind\":3,\"Wave\":0,\"Hpa\":1038}\n",
      "received message = {\"Wind\":2,\"Wave\":0,\"Hpa\":1038}\n",
      "received message = {\"Wind\":3,\"Wave\":0,\"Hpa\":1038}\n",
      "received message = {\"Wind\":3,\"Wave\":0,\"Hpa\":1038}\n",
      "received message = {\"Wind\":3,\"Wave\":0,\"Hpa\":1038}\n",
      "predict1 = 0.0\n",
      "predict message =  {\"Predict1\": 0.0}\n"
     ]
    },
    {
     "name": "stderr",
     "output_type": "stream",
     "text": [
      "c:\\Python39\\lib\\site-packages\\sklearn\\base.py:450: UserWarning: X does not have valid feature names, but RandomForestClassifier was fitted with feature names\n",
      "  warnings.warn(\n"
     ]
    },
    {
     "name": "stdout",
     "output_type": "stream",
     "text": [
      "received message = {\"Wind\":2,\"Wave\":0,\"Hpa\":1038}\n",
      "received message = {\"Wind\":3,\"Wave\":0,\"Hpa\":1038}\n",
      "received message = {\"Wind\":2,\"Wave\":0,\"Hpa\":1038}\n",
      "received message = {\"Wind\":3,\"Wave\":0,\"Hpa\":1038}\n",
      "received message = {\"Wind\":2,\"Wave\":0,\"Hpa\":1038}\n",
      "received message = {\"Wind\":4,\"Wave\":2.5,\"Hpa\":1038}\n",
      "predict1 = 1.0\n",
      "predict2 = 24.787973403930664\n",
      "predict message =  {\"Predict1\": 1.0, \"Predict2\": 24.787973403930664}\n"
     ]
    },
    {
     "name": "stderr",
     "output_type": "stream",
     "text": [
      "c:\\Python39\\lib\\site-packages\\sklearn\\base.py:450: UserWarning: X does not have valid feature names, but RandomForestClassifier was fitted with feature names\n",
      "  warnings.warn(\n"
     ]
    },
    {
     "name": "stdout",
     "output_type": "stream",
     "text": [
      "received message = {\"Wind\":3,\"Wave\":0,\"Hpa\":1038}\n",
      "received message = {\"Wind\":4,\"Wave\":1.700000048,\"Hpa\":1038}\n",
      "received message = {\"Wind\":4,\"Wave\":2.299999952,\"Hpa\":1038}\n",
      "received message = {\"Wind\":2,\"Wave\":2,\"Hpa\":1038}\n",
      "received message = {\"Wind\":3,\"Wave\":0,\"Hpa\":1038}\n",
      "received message = {\"Wind\":3,\"Wave\":0,\"Hpa\":1038}\n",
      "predict1 = 1.0\n",
      "predict2 = 36.13754653930664\n",
      "predict message =  {\"Predict1\": 1.0, \"Predict2\": 36.13754653930664}\n"
     ]
    },
    {
     "name": "stderr",
     "output_type": "stream",
     "text": [
      "c:\\Python39\\lib\\site-packages\\sklearn\\base.py:450: UserWarning: X does not have valid feature names, but RandomForestClassifier was fitted with feature names\n",
      "  warnings.warn(\n"
     ]
    },
    {
     "name": "stdout",
     "output_type": "stream",
     "text": [
      "received message = {\"Wind\":3,\"Wave\":0,\"Hpa\":1038}\n",
      "received message = {\"Wind\":3,\"Wave\":2.700000048,\"Hpa\":1038}\n",
      "received message = {\"Wind\":2,\"Wave\":0,\"Hpa\":1038}\n",
      "received message = {\"Wind\":2,\"Wave\":1.399999976,\"Hpa\":1038}\n",
      "received message = {\"Wind\":2,\"Wave\":0,\"Hpa\":1038}\n",
      "received message = {\"Wind\":2,\"Wave\":0,\"Hpa\":1038}\n",
      "predict1 = 1.0\n",
      "predict2 = 26.580322265625\n",
      "predict message =  {\"Predict1\": 1.0, \"Predict2\": 26.580322265625}\n"
     ]
    },
    {
     "name": "stderr",
     "output_type": "stream",
     "text": [
      "c:\\Python39\\lib\\site-packages\\sklearn\\base.py:450: UserWarning: X does not have valid feature names, but RandomForestClassifier was fitted with feature names\n",
      "  warnings.warn(\n"
     ]
    },
    {
     "name": "stdout",
     "output_type": "stream",
     "text": [
      "received message = {\"Wind\":1,\"Wave\":0,\"Hpa\":1038}\n",
      "received message = {\"Wind\":2,\"Wave\":0,\"Hpa\":1038}\n",
      "received message = {\"Wind\":2,\"Wave\":2.700000048,\"Hpa\":1038}\n",
      "received message = {\"Wind\":2,\"Wave\":0,\"Hpa\":1038}\n",
      "received message = {\"Wind\":2,\"Wave\":0,\"Hpa\":1038}\n",
      "received message = {\"Wind\":3,\"Wave\":0,\"Hpa\":1038}\n",
      "predict1 = 1.0\n",
      "predict2 = 25.43858528137207\n",
      "predict message =  {\"Predict1\": 1.0, \"Predict2\": 25.43858528137207}\n"
     ]
    },
    {
     "name": "stderr",
     "output_type": "stream",
     "text": [
      "c:\\Python39\\lib\\site-packages\\sklearn\\base.py:450: UserWarning: X does not have valid feature names, but RandomForestClassifier was fitted with feature names\n",
      "  warnings.warn(\n"
     ]
    },
    {
     "name": "stdout",
     "output_type": "stream",
     "text": [
      "received message = {\"Wind\":1,\"Wave\":0,\"Hpa\":1038}\n",
      "received message = {\"Wind\":2,\"Wave\":2.799999952,\"Hpa\":1038}\n",
      "received message = {\"Wind\":2,\"Wave\":0,\"Hpa\":1038}\n",
      "received message = {\"Wind\":2,\"Wave\":0,\"Hpa\":1038}\n",
      "received message = {\"Wind\":1,\"Wave\":0,\"Hpa\":1038}\n",
      "received message = {\"Wind\":2,\"Wave\":0,\"Hpa\":1038}\n",
      "predict1 = 1.0\n",
      "predict2 = 25.43858528137207\n",
      "predict message =  {\"Predict1\": 1.0, \"Predict2\": 25.43858528137207}\n"
     ]
    },
    {
     "name": "stderr",
     "output_type": "stream",
     "text": [
      "c:\\Python39\\lib\\site-packages\\sklearn\\base.py:450: UserWarning: X does not have valid feature names, but RandomForestClassifier was fitted with feature names\n",
      "  warnings.warn(\n"
     ]
    },
    {
     "name": "stdout",
     "output_type": "stream",
     "text": [
      "received message = {\"Wind\":1,\"Wave\":0,\"Hpa\":1038}\n",
      "received message = {\"Wind\":2,\"Wave\":0,\"Hpa\":1038}\n",
      "received message = {\"Wind\":3,\"Wave\":0,\"Hpa\":1038}\n",
      "received message = {\"Wind\":3,\"Wave\":0,\"Hpa\":1038}\n",
      "received message = {\"Wind\":3,\"Wave\":2.400000095,\"Hpa\":1038}\n",
      "received message = {\"Wind\":3,\"Wave\":1.799999952,\"Hpa\":1038}\n",
      "predict1 = 1.0\n",
      "predict2 = 27.622835159301758\n",
      "predict message =  {\"Predict1\": 1.0, \"Predict2\": 27.622835159301758}\n"
     ]
    },
    {
     "name": "stderr",
     "output_type": "stream",
     "text": [
      "c:\\Python39\\lib\\site-packages\\sklearn\\base.py:450: UserWarning: X does not have valid feature names, but RandomForestClassifier was fitted with feature names\n",
      "  warnings.warn(\n"
     ]
    },
    {
     "name": "stdout",
     "output_type": "stream",
     "text": [
      "received message = {\"Wind\":2,\"Wave\":0,\"Hpa\":1038}\n",
      "received message = {\"Wind\":2,\"Wave\":0,\"Hpa\":1038}\n",
      "received message = {\"Wind\":3,\"Wave\":0,\"Hpa\":1038}\n",
      "received message = {\"Wind\":3,\"Wave\":2,\"Hpa\":1038}\n",
      "received message = {\"Wind\":4,\"Wave\":0,\"Hpa\":1038}\n",
      "received message = {\"Wind\":4,\"Wave\":6.199999809,\"Hpa\":1038}\n",
      "predict1 = 1.0\n",
      "predict2 = 34.719482421875\n",
      "predict message =  {\"Predict1\": 1.0, \"Predict2\": 34.719482421875}\n"
     ]
    },
    {
     "name": "stderr",
     "output_type": "stream",
     "text": [
      "c:\\Python39\\lib\\site-packages\\sklearn\\base.py:450: UserWarning: X does not have valid feature names, but RandomForestClassifier was fitted with feature names\n",
      "  warnings.warn(\n"
     ]
    },
    {
     "name": "stdout",
     "output_type": "stream",
     "text": [
      "received message = {\"Wind\":4,\"Wave\":5.400000095,\"Hpa\":1038}\n",
      "received message = {\"Wind\":3,\"Wave\":0,\"Hpa\":1038}\n",
      "received message = {\"Wind\":3,\"Wave\":0,\"Hpa\":1038}\n",
      "received message = {\"Wind\":2,\"Wave\":0,\"Hpa\":1038}\n",
      "received message = {\"Wind\":3,\"Wave\":0,\"Hpa\":1038}\n",
      "received message = {\"Wind\":3,\"Wave\":1.899999976,\"Hpa\":1038}\n",
      "predict1 = 1.0\n",
      "predict2 = 34.719482421875\n",
      "predict message =  {\"Predict1\": 1.0, \"Predict2\": 34.719482421875}\n"
     ]
    },
    {
     "name": "stderr",
     "output_type": "stream",
     "text": [
      "c:\\Python39\\lib\\site-packages\\sklearn\\base.py:450: UserWarning: X does not have valid feature names, but RandomForestClassifier was fitted with feature names\n",
      "  warnings.warn(\n"
     ]
    },
    {
     "name": "stdout",
     "output_type": "stream",
     "text": [
      "received message = {\"Wind\":4,\"Wave\":0,\"Hpa\":1038}\n",
      "received message = {\"Wind\":3,\"Wave\":0,\"Hpa\":1038}\n",
      "received message = {\"Wind\":3,\"Wave\":0,\"Hpa\":1038}\n",
      "received message = {\"Wind\":3,\"Wave\":0,\"Hpa\":1038}\n",
      "received message = {\"Wind\":3,\"Wave\":0,\"Hpa\":1038}\n",
      "received message = {\"Wind\":3,\"Wave\":0,\"Hpa\":1038}\n",
      "predict1 = 0.0\n",
      "predict message =  {\"Predict1\": 0.0}\n"
     ]
    },
    {
     "name": "stderr",
     "output_type": "stream",
     "text": [
      "c:\\Python39\\lib\\site-packages\\sklearn\\base.py:450: UserWarning: X does not have valid feature names, but RandomForestClassifier was fitted with feature names\n",
      "  warnings.warn(\n"
     ]
    },
    {
     "name": "stdout",
     "output_type": "stream",
     "text": [
      "received message = {\"Wind\":0,\"Wave\":0,\"Hpa\":0}\n",
      "received message = {\"Wind\":3,\"Wave\":0,\"Hpa\":1038}\n",
      "received message = {\"Wind\":3,\"Wave\":0,\"Hpa\":1038}\n",
      "received message = {\"Wind\":3,\"Wave\":4.900000095,\"Hpa\":1038}\n",
      "received message = {\"Wind\":3,\"Wave\":1.799999952,\"Hpa\":1038}\n",
      "received message = {\"Wind\":2,\"Wave\":0,\"Hpa\":1038}\n",
      "predict1 = 1.0\n",
      "predict2 = 10.45479679107666\n",
      "predict message =  {\"Predict1\": 1.0, \"Predict2\": 10.45479679107666}\n"
     ]
    },
    {
     "name": "stderr",
     "output_type": "stream",
     "text": [
      "c:\\Python39\\lib\\site-packages\\sklearn\\base.py:450: UserWarning: X does not have valid feature names, but RandomForestClassifier was fitted with feature names\n",
      "  warnings.warn(\n"
     ]
    },
    {
     "name": "stdout",
     "output_type": "stream",
     "text": [
      "received message = {\"Wind\":3,\"Wave\":0,\"Hpa\":1038}\n",
      "received message = {\"Wind\":3,\"Wave\":0,\"Hpa\":1038}\n",
      "received message = {\"Wind\":3,\"Wave\":0,\"Hpa\":1038}\n",
      "received message = {\"Wind\":3,\"Wave\":0,\"Hpa\":1038}\n",
      "received message = {\"Wind\":2,\"Wave\":0,\"Hpa\":1038}\n",
      "received message = {\"Wind\":2,\"Wave\":0,\"Hpa\":1038}\n",
      "predict1 = 0.0\n",
      "predict message =  {\"Predict1\": 0.0}\n"
     ]
    },
    {
     "name": "stderr",
     "output_type": "stream",
     "text": [
      "c:\\Python39\\lib\\site-packages\\sklearn\\base.py:450: UserWarning: X does not have valid feature names, but RandomForestClassifier was fitted with feature names\n",
      "  warnings.warn(\n"
     ]
    },
    {
     "name": "stdout",
     "output_type": "stream",
     "text": [
      "received message = {\"Wind\":2,\"Wave\":0,\"Hpa\":1038}\n",
      "received message = {\"Wind\":3,\"Wave\":0,\"Hpa\":1038}\n",
      "received message = {\"Wind\":0,\"Wave\":0,\"Hpa\":1038}\n",
      "received message = {\"Wind\":2,\"Wave\":0,\"Hpa\":1038}\n",
      "received message = {\"Wind\":2,\"Wave\":0,\"Hpa\":1038}\n",
      "received message = {\"Wind\":3,\"Wave\":0,\"Hpa\":1038}\n",
      "predict1 = 0.0\n",
      "predict message =  {\"Predict1\": 0.0}\n"
     ]
    },
    {
     "name": "stderr",
     "output_type": "stream",
     "text": [
      "c:\\Python39\\lib\\site-packages\\sklearn\\base.py:450: UserWarning: X does not have valid feature names, but RandomForestClassifier was fitted with feature names\n",
      "  warnings.warn(\n"
     ]
    },
    {
     "name": "stdout",
     "output_type": "stream",
     "text": [
      "received message = {\"Wind\":3,\"Wave\":0,\"Hpa\":1038}\n",
      "received message = {\"Wind\":5,\"Wave\":0,\"Hpa\":1038}\n",
      "received message = {\"Wind\":7,\"Wave\":0,\"Hpa\":1038}\n",
      "received message = {\"Wind\":9,\"Wave\":3.200000048,\"Hpa\":1038}\n",
      "received message = {\"Wind\":7,\"Wave\":0,\"Hpa\":1038}\n",
      "received message = {\"Wind\":7,\"Wave\":0,\"Hpa\":1038}\n",
      "predict1 = 1.0\n",
      "predict2 = 65.82733154296875\n",
      "predict message =  {\"Predict1\": 1.0, \"Predict2\": 65.82733154296875}\n"
     ]
    },
    {
     "name": "stderr",
     "output_type": "stream",
     "text": [
      "c:\\Python39\\lib\\site-packages\\sklearn\\base.py:450: UserWarning: X does not have valid feature names, but RandomForestClassifier was fitted with feature names\n",
      "  warnings.warn(\n"
     ]
    },
    {
     "name": "stdout",
     "output_type": "stream",
     "text": [
      "received message = {\"Wind\":7,\"Wave\":0,\"Hpa\":1038}\n",
      "received message = {\"Wind\":7,\"Wave\":4.300000191,\"Hpa\":1038}\n",
      "received message = {\"Wind\":6,\"Wave\":0.100000001,\"Hpa\":1038}\n",
      "received message = {\"Wind\":5,\"Wave\":0,\"Hpa\":1038}\n",
      "received message = {\"Wind\":6,\"Wave\":0,\"Hpa\":1038}\n",
      "received message = {\"Wind\":3,\"Wave\":0,\"Hpa\":1038}\n",
      "predict1 = 1.0\n",
      "predict2 = 59.51375198364258\n",
      "predict message =  {\"Predict1\": 1.0, \"Predict2\": 59.51375198364258}\n"
     ]
    },
    {
     "name": "stderr",
     "output_type": "stream",
     "text": [
      "c:\\Python39\\lib\\site-packages\\sklearn\\base.py:450: UserWarning: X does not have valid feature names, but RandomForestClassifier was fitted with feature names\n",
      "  warnings.warn(\n"
     ]
    },
    {
     "name": "stdout",
     "output_type": "stream",
     "text": [
      "received message = {\"Wind\":3,\"Wave\":0,\"Hpa\":1038}\n",
      "received message = {\"Wind\":1,\"Wave\":0.600000024,\"Hpa\":1023}\n",
      "received message = {\"Wind\":0,\"Wave\":0,\"Hpa\":1009}\n",
      "received message = {\"Wind\":0,\"Wave\":0,\"Hpa\":1009}\n",
      "received message = {\"Wind\":4,\"Wave\":4.5,\"Hpa\":1009}\n",
      "received message = {\"Wind\":3,\"Wave\":0,\"Hpa\":1009}\n",
      "predict1 = 1.0\n",
      "predict2 = 14.33025074005127\n",
      "predict message =  {\"Predict1\": 1.0, \"Predict2\": 14.33025074005127}\n"
     ]
    },
    {
     "name": "stderr",
     "output_type": "stream",
     "text": [
      "c:\\Python39\\lib\\site-packages\\sklearn\\base.py:450: UserWarning: X does not have valid feature names, but RandomForestClassifier was fitted with feature names\n",
      "  warnings.warn(\n"
     ]
    },
    {
     "name": "stdout",
     "output_type": "stream",
     "text": [
      "received message = {\"Wind\":3,\"Wave\":0,\"Hpa\":1009}\n",
      "received message = {\"Wind\":4,\"Wave\":3,\"Hpa\":1009}\n",
      "received message = {\"Wind\":5,\"Wave\":0,\"Hpa\":1009}\n",
      "received message = {\"Wind\":6,\"Wave\":0,\"Hpa\":1009}\n",
      "received message = {\"Wind\":5,\"Wave\":0,\"Hpa\":1009}\n",
      "received message = {\"Wind\":6,\"Wave\":0,\"Hpa\":1009}\n",
      "predict1 = 1.0\n",
      "predict2 = 20.055145263671875\n",
      "predict message =  {\"Predict1\": 1.0, \"Predict2\": 20.055145263671875}\n"
     ]
    },
    {
     "name": "stderr",
     "output_type": "stream",
     "text": [
      "c:\\Python39\\lib\\site-packages\\sklearn\\base.py:450: UserWarning: X does not have valid feature names, but RandomForestClassifier was fitted with feature names\n",
      "  warnings.warn(\n"
     ]
    },
    {
     "name": "stdout",
     "output_type": "stream",
     "text": [
      "received message = {\"Wind\":7,\"Wave\":0,\"Hpa\":1009}\n",
      "received message = {\"Wind\":6,\"Wave\":5.099999905,\"Hpa\":1009}\n",
      "received message = {\"Wind\":6,\"Wave\":0,\"Hpa\":1009}\n",
      "received message = {\"Wind\":7,\"Wave\":4.699999809,\"Hpa\":1009}\n",
      "received message = {\"Wind\":5,\"Wave\":0,\"Hpa\":1009}\n",
      "received message = {\"Wind\":7,\"Wave\":0,\"Hpa\":1009}\n",
      "predict1 = 1.0\n",
      "predict2 = 9.472445487976074\n",
      "predict message =  {\"Predict1\": 1.0, \"Predict2\": 9.472445487976074}\n"
     ]
    },
    {
     "name": "stderr",
     "output_type": "stream",
     "text": [
      "c:\\Python39\\lib\\site-packages\\sklearn\\base.py:450: UserWarning: X does not have valid feature names, but RandomForestClassifier was fitted with feature names\n",
      "  warnings.warn(\n"
     ]
    },
    {
     "name": "stdout",
     "output_type": "stream",
     "text": [
      "received message = {\"Wind\":7,\"Wave\":0,\"Hpa\":1009}\n",
      "received message = {\"Wind\":7,\"Wave\":0,\"Hpa\":1009}\n",
      "received message = {\"Wind\":6,\"Wave\":0.200000003,\"Hpa\":980}\n",
      "received message = {\"Wind\":6,\"Wave\":0,\"Hpa\":980}\n",
      "received message = {\"Wind\":14,\"Wave\":0,\"Hpa\":980}\n",
      "received message = {\"Wind\":17,\"Wave\":7.699999809,\"Hpa\":980}\n",
      "predict1 = 2.0\n",
      "predict2 = 18.74233055114746\n",
      "predict message =  {\"Predict1\": 2.0, \"Predict2\": 18.74233055114746}\n"
     ]
    },
    {
     "name": "stderr",
     "output_type": "stream",
     "text": [
      "c:\\Python39\\lib\\site-packages\\sklearn\\base.py:450: UserWarning: X does not have valid feature names, but RandomForestClassifier was fitted with feature names\n",
      "  warnings.warn(\n"
     ]
    },
    {
     "name": "stdout",
     "output_type": "stream",
     "text": [
      "received message = {\"Wind\":16,\"Wave\":6.699999809,\"Hpa\":980}\n",
      "received message = {\"Wind\":14,\"Wave\":6.199999809,\"Hpa\":980}\n",
      "received message = {\"Wind\":12,\"Wave\":4.400000095,\"Hpa\":980}\n",
      "received message = {\"Wind\":6,\"Wave\":0.5,\"Hpa\":980}\n",
      "received message = {\"Wind\":5,\"Wave\":0,\"Hpa\":980}\n",
      "received message = {\"Wind\":13,\"Wave\":5.300000191,\"Hpa\":980}\n",
      "predict1 = 2.0\n",
      "predict2 = 17.822837829589844\n",
      "predict message =  {\"Predict1\": 2.0, \"Predict2\": 17.822837829589844}\n"
     ]
    },
    {
     "name": "stderr",
     "output_type": "stream",
     "text": [
      "c:\\Python39\\lib\\site-packages\\sklearn\\base.py:450: UserWarning: X does not have valid feature names, but RandomForestClassifier was fitted with feature names\n",
      "  warnings.warn(\n"
     ]
    },
    {
     "name": "stdout",
     "output_type": "stream",
     "text": [
      "received message = {\"Wind\":15,\"Wave\":0,\"Hpa\":980}\n",
      "received message = {\"Wind\":15,\"Wave\":7.599999905,\"Hpa\":980}\n",
      "received message = {\"Wind\":9,\"Wave\":6.599999905,\"Hpa\":980}\n",
      "received message = {\"Wind\":6,\"Wave\":6.199999809,\"Hpa\":980}\n",
      "received message = {\"Wind\":5,\"Wave\":6.300000191,\"Hpa\":980}\n",
      "received message = {\"Wind\":11,\"Wave\":6.400000095,\"Hpa\":980}\n",
      "predict1 = 2.0\n",
      "predict2 = 32.40271759033203\n",
      "predict message =  {\"Predict1\": 2.0, \"Predict2\": 32.40271759033203}\n"
     ]
    },
    {
     "name": "stderr",
     "output_type": "stream",
     "text": [
      "c:\\Python39\\lib\\site-packages\\sklearn\\base.py:450: UserWarning: X does not have valid feature names, but RandomForestClassifier was fitted with feature names\n",
      "  warnings.warn(\n"
     ]
    },
    {
     "name": "stdout",
     "output_type": "stream",
     "text": [
      "received message = {\"Wind\":14,\"Wave\":6.400000095,\"Hpa\":980}\n",
      "received message = {\"Wind\":14,\"Wave\":5.400000095,\"Hpa\":980}\n",
      "received message = {\"Wind\":16,\"Wave\":4.599999905,\"Hpa\":980}\n",
      "received message = {\"Wind\":15,\"Wave\":3.700000048,\"Hpa\":980}\n",
      "received message = {\"Wind\":16,\"Wave\":4.199999809,\"Hpa\":980}\n",
      "received message = {\"Wind\":16,\"Wave\":6.400000095,\"Hpa\":980}\n",
      "predict1 = 2.0\n",
      "predict2 = 22.334611892700195\n",
      "predict message =  {\"Predict1\": 2.0, \"Predict2\": 22.334611892700195}\n"
     ]
    },
    {
     "name": "stderr",
     "output_type": "stream",
     "text": [
      "c:\\Python39\\lib\\site-packages\\sklearn\\base.py:450: UserWarning: X does not have valid feature names, but RandomForestClassifier was fitted with feature names\n",
      "  warnings.warn(\n"
     ]
    },
    {
     "name": "stdout",
     "output_type": "stream",
     "text": [
      "received message = {\"Wind\":14,\"Wave\":0,\"Hpa\":980}\n",
      "received message = {\"Wind\":10,\"Wave\":0.100000001,\"Hpa\":980}\n",
      "received message = {\"Wind\":1,\"Wave\":0,\"Hpa\":980}\n",
      "received message = {\"Wind\":0,\"Wave\":0,\"Hpa\":980}\n",
      "disconnect.\n"
     ]
    }
   ],
   "source": [
    "import time\n",
    "import numpy as np\n",
    "import paho.mqtt.client as paho\n",
    "import json\n",
    "import pandas as pd\n",
    "from collections import OrderedDict\n",
    "import joblib\n",
    "\n",
    "# ip주소 바꾸기\n",
    "broker=\"192.168.0.62\"\n",
    "HOST=\"192.168.0.62\"\n",
    "\n",
    "# 모델1 예측수행 함수\n",
    "def predictOfModel1(WIND_SPEED, GUST_WIND, SIG_WAVE, MAX_WAVE, HPA):\n",
    "    # 센서를 통해 받은 데이터로 예측을 하려면 모델에 맞는 데이터프레임 형태로 만들어 줘야 할 것 같음\n",
    "    X_data = pd.DataFrame([[WIND_SPEED, GUST_WIND, SIG_WAVE, MAX_WAVE, HPA]], columns=['WIND_SPEED', 'GUST_WIND', 'SIG_WAVE', 'MAX_WAVE', 'HPA'])\n",
    "    scaled_data = scaler1.transform(X_data) # MinMax\n",
    "    pred1 = model1.predict(scaled_data)\n",
    "    pred1 = pred1[0]\n",
    "    \n",
    "    print(\"predict1 =\", pred1)\n",
    "    return pred1\n",
    "\n",
    "# 모델2 예측수행 함수\n",
    "def predictOfModel2(WIND_SPEED, GUST_WIND, SIG_WAVE, MAX_WAVE, HPA, pred1):\n",
    "    # 센서를 통해 받은 데이터로 예측을 하려면 모델에 맞는 데이터프레임 형태로 만들어 줘야 할 것 같음\n",
    "    # X_data = pd.DataFrame([[WIND_SPEED, GUST_WIND, SIG_WAVE, MAX_WAVE, HPA, pred1]], columns=['WIND_SPEED', 'GUST_WIND', 'SIG_WAVE', 'MAX_WAVE', 'HPA', '특보강도'])\n",
    "    X_data = pd.DataFrame([[WIND_SPEED, GUST_WIND, SIG_WAVE, MAX_WAVE, HPA, pred1]], columns=['WIND_SPEED', 'GUST_WIND', 'SIG_WAVE', 'MAX_WAVE', 'HPA', '특보강도'])\n",
    "    scaled_data = scaler2.transform(X_data)\n",
    "    # scaled_data['특보강도'] = pred1\n",
    "    pred2 = model2.predict(scaled_data)\n",
    "    pred2 = pred2.astype('float64')\n",
    "    pred2 = pred2[0]\n",
    "    \n",
    "    print(\"predict2 =\", pred2)\n",
    "    return pred2\n",
    "\n",
    "def makeJSON1(pred1):\n",
    "    data = OrderedDict()\n",
    "    data['Predict1'] = pred1\n",
    "    result = json.dumps(data)\n",
    "    print(\"predict message = \", result)\n",
    "    return result\n",
    "    \n",
    "def makeJSON2(pred1, pred2):\n",
    "    data = OrderedDict()\n",
    "    data['Predict1'] = pred1\n",
    "    data['Predict2'] = pred2\n",
    "    result = json.dumps(data)\n",
    "    print(\"predict message = \", result)\n",
    "    return result\n",
    "\n",
    "def readJSON(message):\n",
    "    recvData = str(message.payload.decode(\"utf-8\"))\n",
    "    print(\"received message =\", recvData)\n",
    "    jsonData = json.loads(recvData) #json 데이터를 dict형으로 파싱\n",
    "\n",
    "    return jsonData['Wind'],jsonData['Wave'],jsonData['Hpa']\n",
    "\n",
    "#define callback\n",
    "def on_message(client, userdata, message):\n",
    "    time.sleep(1)\n",
    "    \n",
    "    windspeed,wave,hpa = readJSON(message)    #NodeMCU로부터 받은 센서 메시지 파싱 \n",
    "    # ex) 반복문으로 1분동안 readJson을 통해 얻은 데이터를 리스트로 저장 \n",
    "    #     -> 풍속데이터 n개가 있는 리스트 하나, 파고데이터 n개가 있는 리스트 하나\n",
    "    #     -> 풍속: 풍속리스트의 평균\n",
    "    #        최대순간풍속: 풍속리스트의 최대값\n",
    "    #        유의파고: 파고리스트의 상위 n/3개 값의 평균값\n",
    "    #        최대파고: 파고리스트의 최대값\n",
    "\n",
    "    global list_windspeed, list_wave, list_hpa\n",
    "\n",
    "    list_windspeed.append(windspeed)\n",
    "    list_wave.append(wave)\n",
    "    list_hpa.append(hpa)\n",
    "\n",
    "    if len(list_windspeed) == 6 : # 60개의 데이터가 쌓이면 실행\n",
    "        WIND_SPEED = np.mean(list_windspeed)\n",
    "        GUST_WIND = max(list_windspeed)\n",
    "        SIG_WAVE = np.mean(sorted(list_wave)[-2:]) # 파고리스트 오름차순 정렬, 상위 20개의 값을 리스트로 반환, 평균계산\n",
    "        MAX_WAVE = max(list_wave)\n",
    "        HPA = np.mean(list_hpa)\n",
    "\n",
    "        # 리스트 초기화\n",
    "        list_windspeed = []\n",
    "        list_wave = []\n",
    "        list_hpa = []\n",
    "\n",
    "        pred1 = predictOfModel1(WIND_SPEED, GUST_WIND, SIG_WAVE, MAX_WAVE, HPA) #머신러닝/딥러닝 모델 결과\n",
    "        if pred1 == 0 : # 모델1의 결과값이 0일때\n",
    "            preJSON = makeJSON1(pred1) #NodeMCU로 보낼 메시지 만들기 \n",
    "            client.publish('Model',preJSON) #publish\n",
    "\n",
    "        elif pred1 != 0 : # 모델1의 결과값이 1,2일때\n",
    "            pred2 = predictOfModel2(WIND_SPEED, GUST_WIND, SIG_WAVE, MAX_WAVE, HPA, pred1) # 모델2 예측 수행 0,1 -> ok    2 -> ?\n",
    "            preJSON = makeJSON2(pred1, pred2) #NodeMCU로 보낼 메시지 만들기  \n",
    "            client.publish('Model',preJSON) #publish\n",
    "\n",
    "# 모델1 : WIND_SPEED, GUST_WIND, SIG_WAVE, MAX_WAVE, HPA -> 특보강도=[0 or 1 or 2]\n",
    "# 모델2 : WIND_SPEED, GUST_WIND, SIG_WAVE, MAX_WAVE, HPA, 특보강도[0,1,2] -> 남은시간\n",
    "\n",
    "client = paho.Client()\n",
    "client.on_message=on_message\n",
    "\n",
    "print(\"connecting to broker \",broker)\n",
    "client.connect(HOST)#connect\n",
    "\n",
    "print(\"subscribing \")\n",
    "client.subscribe(\"Sensor\")#subscribe\n",
    "\n",
    "try:\n",
    "    client.loop_forever()\n",
    "except KeyboardInterrupt:\n",
    "    print(\"disconnect.\")\n"
   ]
  },
  {
   "cell_type": "code",
   "execution_count": null,
   "metadata": {},
   "outputs": [],
   "source": []
  }
 ],
 "metadata": {
  "kernelspec": {
   "display_name": "Python 3.9.13 64-bit",
   "language": "python",
   "name": "python3"
  },
  "language_info": {
   "codemirror_mode": {
    "name": "ipython",
    "version": 3
   },
   "file_extension": ".py",
   "mimetype": "text/x-python",
   "name": "python",
   "nbconvert_exporter": "python",
   "pygments_lexer": "ipython3",
   "version": "3.9.13"
  },
  "orig_nbformat": 4,
  "vscode": {
   "interpreter": {
    "hash": "81794d4967e6c3204c66dcd87b604927b115b27c00565d3d43f05ba2f3a2cb0d"
   }
  }
 },
 "nbformat": 4,
 "nbformat_minor": 2
}
